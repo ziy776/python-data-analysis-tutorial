{
 "cells": [
  {
   "cell_type": "markdown",
   "id": "cafb0e8c-d3fd-458a-bef6-4a1aca94d3a4",
   "metadata": {},
   "source": [
    "# Data operations"
   ]
  },
  {
   "cell_type": "markdown",
   "id": "ac0b7015-0f2b-468b-ab28-7317e7a4595b",
   "metadata": {},
   "source": [
    "## Read Data or Create Data"
   ]
  },
  {
   "cell_type": "code",
   "execution_count": 46,
   "id": "9ecc3885-cdbf-467c-aab7-5d39a6d68a08",
   "metadata": {},
   "outputs": [],
   "source": [
    "# Read data\n",
    "# import os\n",
    "# import pandas as pd\n",
    "# # Get current working directory\n",
    "# os.getcwd()\n",
    "# # Change working directory\n",
    "# os.chdir(\"/path/to/your/folder\")\n",
    "# # Read a CSV file in to a DataFrame\n",
    "# df = pd.read_csv(\"data.csv\")"
   ]
  },
  {
   "cell_type": "code",
   "execution_count": 47,
   "id": "c2ed8477-13fe-4b95-97e6-0c13a75ab8e5",
   "metadata": {},
   "outputs": [
    {
     "name": "stdout",
     "output_type": "stream",
     "text": [
      "       Name  Age         City  Salary\n",
      "0     Alice   25     New York   70000\n",
      "1       Bob   30  Los Angeles   80000\n",
      "2   Charlie   35      Chicago  120000\n",
      "3     David   40     New York   90000\n",
      "4       Eva   28  Los Angeles   75000\n",
      "5     Frank   32      Chicago  120000\n",
      "6     Grace   29     New York   70000\n",
      "7    Hannah   41  Los Angeles   80000\n",
      "8       Ian   35     New York   90000\n",
      "9     Julia   30  Los Angeles   75000\n",
      "10    Kevin   27      Chicago  120000\n",
      "11    Laura   33     New York   70000\n",
      "12  Michael   38  Los Angeles   90000\n",
      "13     Nina   26     New York   75000\n"
     ]
    }
   ],
   "source": [
    "# Create data\n",
    "import pandas as pd\n",
    "\n",
    "df = pd.DataFrame({\n",
    "    'Name': [\n",
    "        'Alice', 'Bob', 'Charlie', 'David', 'Eva',\n",
    "        'Frank', 'Grace', 'Hannah', 'Ian', 'Julia',\n",
    "        'Kevin', 'Laura', 'Michael', 'Nina'\n",
    "    ],\n",
    "    'Age': [25, 30, 35, 40, 28, 32, 29, 41, 35, 30,\n",
    "            27, 33, 38, 26],\n",
    "    'City': [\n",
    "        'New York', 'Los Angeles', 'Chicago', 'New York', 'Los Angeles',\n",
    "        'Chicago', 'New York', 'Los Angeles', 'New York', 'Los Angeles',\n",
    "        'Chicago', 'New York', 'Los Angeles', 'New York'\n",
    "    ],\n",
    "    'Salary': [\n",
    "        70000, 80000, 120000, 90000, 75000,\n",
    "        120000, 70000, 80000, 90000, 75000,\n",
    "        120000, 70000, 90000, 75000\n",
    "    ]\n",
    "})\n",
    "\n",
    "print(df)"
   ]
  },
  {
   "cell_type": "markdown",
   "id": "89c58d2c-ef91-4645-8951-bb9537f9d992",
   "metadata": {},
   "source": [
    "## Data Exploration and Inspection"
   ]
  },
  {
   "cell_type": "code",
   "execution_count": 48,
   "id": "ec5e69ed-16cd-44bb-afcc-afa1ded65d7c",
   "metadata": {},
   "outputs": [
    {
     "data": {
      "text/html": [
       "<div>\n",
       "<style scoped>\n",
       "    .dataframe tbody tr th:only-of-type {\n",
       "        vertical-align: middle;\n",
       "    }\n",
       "\n",
       "    .dataframe tbody tr th {\n",
       "        vertical-align: top;\n",
       "    }\n",
       "\n",
       "    .dataframe thead th {\n",
       "        text-align: right;\n",
       "    }\n",
       "</style>\n",
       "<table border=\"1\" class=\"dataframe\">\n",
       "  <thead>\n",
       "    <tr style=\"text-align: right;\">\n",
       "      <th></th>\n",
       "      <th>Name</th>\n",
       "      <th>Age</th>\n",
       "      <th>City</th>\n",
       "      <th>Salary</th>\n",
       "    </tr>\n",
       "  </thead>\n",
       "  <tbody>\n",
       "    <tr>\n",
       "      <th>0</th>\n",
       "      <td>Alice</td>\n",
       "      <td>25</td>\n",
       "      <td>New York</td>\n",
       "      <td>70000</td>\n",
       "    </tr>\n",
       "    <tr>\n",
       "      <th>1</th>\n",
       "      <td>Bob</td>\n",
       "      <td>30</td>\n",
       "      <td>Los Angeles</td>\n",
       "      <td>80000</td>\n",
       "    </tr>\n",
       "    <tr>\n",
       "      <th>2</th>\n",
       "      <td>Charlie</td>\n",
       "      <td>35</td>\n",
       "      <td>Chicago</td>\n",
       "      <td>120000</td>\n",
       "    </tr>\n",
       "    <tr>\n",
       "      <th>3</th>\n",
       "      <td>David</td>\n",
       "      <td>40</td>\n",
       "      <td>New York</td>\n",
       "      <td>90000</td>\n",
       "    </tr>\n",
       "    <tr>\n",
       "      <th>4</th>\n",
       "      <td>Eva</td>\n",
       "      <td>28</td>\n",
       "      <td>Los Angeles</td>\n",
       "      <td>75000</td>\n",
       "    </tr>\n",
       "  </tbody>\n",
       "</table>\n",
       "</div>"
      ],
      "text/plain": [
       "      Name  Age         City  Salary\n",
       "0    Alice   25     New York   70000\n",
       "1      Bob   30  Los Angeles   80000\n",
       "2  Charlie   35      Chicago  120000\n",
       "3    David   40     New York   90000\n",
       "4      Eva   28  Los Angeles   75000"
      ]
     },
     "execution_count": 48,
     "metadata": {},
     "output_type": "execute_result"
    }
   ],
   "source": [
    "df.head()"
   ]
  },
  {
   "cell_type": "code",
   "execution_count": 49,
   "id": "6ce052b6-f18e-4228-80d9-1108167973a6",
   "metadata": {},
   "outputs": [
    {
     "data": {
      "text/plain": [
       "(14, 4)"
      ]
     },
     "execution_count": 49,
     "metadata": {},
     "output_type": "execute_result"
    }
   ],
   "source": [
    "df.shape  # (rows, columns)"
   ]
  },
  {
   "cell_type": "code",
   "execution_count": 50,
   "id": "47f9f709-3a3f-4ec6-940a-9910b305cf63",
   "metadata": {},
   "outputs": [
    {
     "name": "stdout",
     "output_type": "stream",
     "text": [
      "<class 'pandas.core.frame.DataFrame'>\n",
      "RangeIndex: 14 entries, 0 to 13\n",
      "Data columns (total 4 columns):\n",
      " #   Column  Non-Null Count  Dtype \n",
      "---  ------  --------------  ----- \n",
      " 0   Name    14 non-null     object\n",
      " 1   Age     14 non-null     int64 \n",
      " 2   City    14 non-null     object\n",
      " 3   Salary  14 non-null     int64 \n",
      "dtypes: int64(2), object(2)\n",
      "memory usage: 580.0+ bytes\n"
     ]
    }
   ],
   "source": [
    "df.info()"
   ]
  },
  {
   "cell_type": "code",
   "execution_count": 51,
   "id": "a11d4c61-6226-40b6-94fa-5765f5365ac7",
   "metadata": {
    "scrolled": true
   },
   "outputs": [
    {
     "data": {
      "text/html": [
       "<div>\n",
       "<style scoped>\n",
       "    .dataframe tbody tr th:only-of-type {\n",
       "        vertical-align: middle;\n",
       "    }\n",
       "\n",
       "    .dataframe tbody tr th {\n",
       "        vertical-align: top;\n",
       "    }\n",
       "\n",
       "    .dataframe thead th {\n",
       "        text-align: right;\n",
       "    }\n",
       "</style>\n",
       "<table border=\"1\" class=\"dataframe\">\n",
       "  <thead>\n",
       "    <tr style=\"text-align: right;\">\n",
       "      <th></th>\n",
       "      <th>Age</th>\n",
       "      <th>Salary</th>\n",
       "    </tr>\n",
       "  </thead>\n",
       "  <tbody>\n",
       "    <tr>\n",
       "      <th>count</th>\n",
       "      <td>14.000000</td>\n",
       "      <td>14.000000</td>\n",
       "    </tr>\n",
       "    <tr>\n",
       "      <th>mean</th>\n",
       "      <td>32.071429</td>\n",
       "      <td>87500.000000</td>\n",
       "    </tr>\n",
       "    <tr>\n",
       "      <th>std</th>\n",
       "      <td>5.136061</td>\n",
       "      <td>18988.863133</td>\n",
       "    </tr>\n",
       "    <tr>\n",
       "      <th>min</th>\n",
       "      <td>25.000000</td>\n",
       "      <td>70000.000000</td>\n",
       "    </tr>\n",
       "    <tr>\n",
       "      <th>25%</th>\n",
       "      <td>28.250000</td>\n",
       "      <td>75000.000000</td>\n",
       "    </tr>\n",
       "    <tr>\n",
       "      <th>50%</th>\n",
       "      <td>31.000000</td>\n",
       "      <td>80000.000000</td>\n",
       "    </tr>\n",
       "    <tr>\n",
       "      <th>75%</th>\n",
       "      <td>35.000000</td>\n",
       "      <td>90000.000000</td>\n",
       "    </tr>\n",
       "    <tr>\n",
       "      <th>max</th>\n",
       "      <td>41.000000</td>\n",
       "      <td>120000.000000</td>\n",
       "    </tr>\n",
       "  </tbody>\n",
       "</table>\n",
       "</div>"
      ],
      "text/plain": [
       "             Age         Salary\n",
       "count  14.000000      14.000000\n",
       "mean   32.071429   87500.000000\n",
       "std     5.136061   18988.863133\n",
       "min    25.000000   70000.000000\n",
       "25%    28.250000   75000.000000\n",
       "50%    31.000000   80000.000000\n",
       "75%    35.000000   90000.000000\n",
       "max    41.000000  120000.000000"
      ]
     },
     "execution_count": 51,
     "metadata": {},
     "output_type": "execute_result"
    }
   ],
   "source": [
    "df.describe()"
   ]
  },
  {
   "cell_type": "markdown",
   "id": "bca32036-e5c9-4206-8419-440359c60a6c",
   "metadata": {},
   "source": [
    "## Selecting Rows and Columns"
   ]
  },
  {
   "cell_type": "code",
   "execution_count": 52,
   "id": "a981238e-8cc6-4670-a09d-aff49168a3a7",
   "metadata": {
    "scrolled": true
   },
   "outputs": [
    {
     "data": {
      "text/html": [
       "<div>\n",
       "<style scoped>\n",
       "    .dataframe tbody tr th:only-of-type {\n",
       "        vertical-align: middle;\n",
       "    }\n",
       "\n",
       "    .dataframe tbody tr th {\n",
       "        vertical-align: top;\n",
       "    }\n",
       "\n",
       "    .dataframe thead th {\n",
       "        text-align: right;\n",
       "    }\n",
       "</style>\n",
       "<table border=\"1\" class=\"dataframe\">\n",
       "  <thead>\n",
       "    <tr style=\"text-align: right;\">\n",
       "      <th></th>\n",
       "      <th>City</th>\n",
       "      <th>Salary</th>\n",
       "    </tr>\n",
       "  </thead>\n",
       "  <tbody>\n",
       "    <tr>\n",
       "      <th>0</th>\n",
       "      <td>New York</td>\n",
       "      <td>70000</td>\n",
       "    </tr>\n",
       "    <tr>\n",
       "      <th>1</th>\n",
       "      <td>Los Angeles</td>\n",
       "      <td>80000</td>\n",
       "    </tr>\n",
       "  </tbody>\n",
       "</table>\n",
       "</div>"
      ],
      "text/plain": [
       "          City  Salary\n",
       "0     New York   70000\n",
       "1  Los Angeles   80000"
      ]
     },
     "execution_count": 52,
     "metadata": {},
     "output_type": "execute_result"
    }
   ],
   "source": [
    "# Select the first two rows and the last two columns\n",
    "df.iloc[:2, -2:]"
   ]
  },
  {
   "cell_type": "code",
   "execution_count": 53,
   "id": "b4e8386e-58e8-4db5-80af-5448e46f5ec9",
   "metadata": {},
   "outputs": [
    {
     "data": {
      "text/plain": [
       "0       New York\n",
       "1    Los Angeles\n",
       "2        Chicago\n",
       "Name: City, dtype: object"
      ]
     },
     "execution_count": 53,
     "metadata": {},
     "output_type": "execute_result"
    }
   ],
   "source": [
    "# Select rows with index from 0 to 2 (inclusive) and only the 'City' column\n",
    "df.loc[0:2, 'City']"
   ]
  },
  {
   "cell_type": "code",
   "execution_count": 54,
   "id": "f99d37f7-5301-42a0-abe9-7f290a098a13",
   "metadata": {},
   "outputs": [
    {
     "name": "stdout",
     "output_type": "stream",
     "text": [
      "     Name      City\n",
      "0   Alice  New York\n",
      "3   David  New York\n",
      "6   Grace  New York\n",
      "8     Ian  New York\n",
      "11  Laura  New York\n",
      "13   Nina  New York\n"
     ]
    }
   ],
   "source": [
    "# Select rows where City is \"New York\" and only keep Name and City columns\n",
    "df_ny = df[df['City'] == 'New York'][['Name', 'City']]\n",
    "print(df_ny)"
   ]
  },
  {
   "cell_type": "code",
   "execution_count": 55,
   "id": "0d853622-55ec-4fac-a6ff-9c88943f8f7e",
   "metadata": {},
   "outputs": [
    {
     "name": "stdout",
     "output_type": "stream",
     "text": [
      "       Name  Age         City  Salary\n",
      "2   Charlie   35      Chicago  120000\n",
      "3     David   40     New York   90000\n",
      "5     Frank   32      Chicago  120000\n",
      "8       Ian   35     New York   90000\n",
      "12  Michael   38  Los Angeles   90000\n"
     ]
    }
   ],
   "source": [
    "# Select rows where Age > 30 AND Salary > 80000\n",
    "df_high = df[(df['Age'] > 30) & (df['Salary'] > 80000)]\n",
    "print(df_high)"
   ]
  },
  {
   "cell_type": "markdown",
   "id": "0ebf1af7-c41e-4ca2-8399-75146557d58c",
   "metadata": {},
   "source": [
    "## Merging and Concatenation"
   ]
  },
  {
   "cell_type": "code",
   "execution_count": 57,
   "id": "36e5fcd1-261a-422e-ac88-b4a3c6734250",
   "metadata": {
    "scrolled": true
   },
   "outputs": [
    {
     "name": "stdout",
     "output_type": "stream",
     "text": [
      "       Name  Age         City  Salary\n",
      "0     Alice   25     New York   70000\n",
      "3     David   40     New York   90000\n",
      "6     Grace   29     New York   70000\n",
      "8       Ian   35     New York   90000\n",
      "11    Laura   33     New York   70000\n",
      "13     Nina   26     New York   75000\n",
      "1       Bob   30  Los Angeles   80000\n",
      "4       Eva   28  Los Angeles   75000\n",
      "7    Hannah   41  Los Angeles   80000\n",
      "9     Julia   30  Los Angeles   75000\n",
      "12  Michael   38  Los Angeles   90000\n"
     ]
    }
   ],
   "source": [
    "# Create copies of subsets where City is 'New York' and 'Los Angeles' respectively\n",
    "df_ny = df[df['City'] == 'New York']\n",
    "df_la = df[df['City'] == 'Los Angeles']\n",
    "\n",
    "# Concatenate the two subsets vertically \n",
    "df_concat = pd.concat([df_ny, df_la]) # axis=0 is the default (stack rows), axis=1 would concatenate along columns\n",
    "print(df_concat)"
   ]
  },
  {
   "cell_type": "code",
   "execution_count": 58,
   "id": "3a898380-8281-4824-9a0b-27ba85547839",
   "metadata": {},
   "outputs": [
    {
     "name": "stdout",
     "output_type": "stream",
     "text": [
      "       Name  Age         City  Salary\n",
      "0     Alice   25     New York   70000\n",
      "1     David   40     New York   90000\n",
      "2     Grace   29     New York   70000\n",
      "3       Ian   35     New York   90000\n",
      "4     Laura   33     New York   70000\n",
      "5      Nina   26     New York   75000\n",
      "6       Bob   30  Los Angeles   80000\n",
      "7       Eva   28  Los Angeles   75000\n",
      "8    Hannah   41  Los Angeles   80000\n",
      "9     Julia   30  Los Angeles   75000\n",
      "10  Michael   38  Los Angeles   90000\n"
     ]
    }
   ],
   "source": [
    "# Reset the index of the concatenated DataFrame to have a sequential index\n",
    "df_concat = df_concat.reset_index(drop=True)\n",
    "print(df_concat)"
   ]
  },
  {
   "cell_type": "code",
   "execution_count": 65,
   "id": "a52baef1-cc37-4791-9e09-51bdbbc12144",
   "metadata": {},
   "outputs": [],
   "source": [
    "# Create a new data set including employee names, company names, and commute distances\n",
    "# The new data set does NOT include the following four people: 'Kevin', 'Laura', 'Michael', 'Nina'\n",
    "# Added three new people whose names start with 'O', 'P', and 'Q'\n",
    "df2 = pd.DataFrame({\n",
    "    'Name': [\n",
    "        'Alice', 'Bob', 'Charlie', 'David', 'Eva',\n",
    "        'Frank', 'Grace', 'Hannah', 'Ian', 'Julia',\n",
    "        'Oliver', 'Pamela', 'Quentin' \n",
    "    ],\n",
    "    'Company': [\n",
    "        'Alpha Corp', 'Beta LLC', 'Gamma Inc', 'Alpha Corp', 'Beta LLC',\n",
    "        'Gamma Inc', 'Alpha Corp', 'Beta LLC', 'Alpha Corp', 'Beta LLC',\n",
    "        'Delta Co', 'Epsilon Ltd', 'Zeta Group' \n",
    "    ],\n",
    "    'Commute_Miles': [\n",
    "        5.2, 10.5, 3.3, 6.1, 9.4,\n",
    "        4.8, 5.0, 11.0, 6.5, 9.9,\n",
    "        7.1, 8.3, 6.7 \n",
    "    ]\n",
    "})"
   ]
  },
  {
   "cell_type": "code",
   "execution_count": 80,
   "id": "8c8b0f33-00b4-42d4-ba25-08c592ea1e5f",
   "metadata": {},
   "outputs": [
    {
     "name": "stdout",
     "output_type": "stream",
     "text": [
      "Difference: {'Michael', 'Quentin', 'Oliver', 'Pamela', 'Kevin', 'Laura', 'Nina'}\n"
     ]
    }
   ],
   "source": [
    "# Find names that are in either df or df2 but not in both (symmetric difference)\n",
    "df_name = set(df['Name'])\n",
    "df2_name = set(df2['Name'])\n",
    "\n",
    "diff = df_name ^ df2_name\n",
    "print(\"Difference:\", diff)"
   ]
  },
  {
   "cell_type": "code",
   "execution_count": 66,
   "id": "ec6d50d7-fe84-441e-b506-83dfd148729c",
   "metadata": {},
   "outputs": [
    {
     "name": "stdout",
     "output_type": "stream",
     "text": [
      "(14, 4)\n",
      "(13, 3)\n",
      "(14, 6)\n"
     ]
    }
   ],
   "source": [
    "df_merge_left = pd.merge(df, df2, how='left', on='Name') # Left merge means keep all rows from df (left DataFrame)\n",
    "print(df.shape)\n",
    "print(df2.shape)\n",
    "print(df_merge_left.shape)"
   ]
  },
  {
   "cell_type": "code",
   "execution_count": 70,
   "id": "5b0f9a6f-4a5f-4ad1-9005-597259f28c5b",
   "metadata": {
    "scrolled": true
   },
   "outputs": [
    {
     "data": {
      "text/plain": [
       "0     True\n",
       "1     True\n",
       "2     True\n",
       "3     True\n",
       "4     True\n",
       "5     True\n",
       "6     True\n",
       "7     True\n",
       "8     True\n",
       "9     True\n",
       "10    True\n",
       "11    True\n",
       "12    True\n",
       "13    True\n",
       "Name: Name, dtype: bool"
      ]
     },
     "execution_count": 70,
     "metadata": {},
     "output_type": "execute_result"
    }
   ],
   "source": [
    "# Compare the 'Name' column in the original df with the 'Name' column in df_merge_left\n",
    "# This returns a boolean Series indicating which rows have matching names in both DataFrames\n",
    "df['Name'] == df_merge_left['Name']"
   ]
  },
  {
   "cell_type": "code",
   "execution_count": 71,
   "id": "95b1ef9a-e1b0-463c-b964-ad7f01f51972",
   "metadata": {},
   "outputs": [
    {
     "name": "stdout",
     "output_type": "stream",
     "text": [
      "       Name   Age         City    Salary      Company  Commute_Miles\n",
      "0     Alice  25.0     New York   70000.0   Alpha Corp            5.2\n",
      "1       Bob  30.0  Los Angeles   80000.0     Beta LLC           10.5\n",
      "2   Charlie  35.0      Chicago  120000.0    Gamma Inc            3.3\n",
      "3     David  40.0     New York   90000.0   Alpha Corp            6.1\n",
      "4       Eva  28.0  Los Angeles   75000.0     Beta LLC            9.4\n",
      "5     Frank  32.0      Chicago  120000.0    Gamma Inc            4.8\n",
      "6     Grace  29.0     New York   70000.0   Alpha Corp            5.0\n",
      "7    Hannah  41.0  Los Angeles   80000.0     Beta LLC           11.0\n",
      "8       Ian  35.0     New York   90000.0   Alpha Corp            6.5\n",
      "9     Julia  30.0  Los Angeles   75000.0     Beta LLC            9.9\n",
      "10    Kevin  27.0      Chicago  120000.0          NaN            NaN\n",
      "11    Laura  33.0     New York   70000.0          NaN            NaN\n",
      "12  Michael  38.0  Los Angeles   90000.0          NaN            NaN\n",
      "13     Nina  26.0     New York   75000.0          NaN            NaN\n",
      "14   Oliver   NaN          NaN       NaN     Delta Co            7.1\n",
      "15   Pamela   NaN          NaN       NaN  Epsilon Ltd            8.3\n",
      "16  Quentin   NaN          NaN       NaN   Zeta Group            6.7\n"
     ]
    }
   ],
   "source": [
    "# Perform an outer merge using 'Name' as the key\n",
    "# Outer merge returns the union of rows from both df and df2\n",
    "# For names missing in either DataFrame, the corresponding columns will have NaN (missing values)\n",
    "df_merge_outer = pd.merge(df, df2, how='outer', on='Name')\n",
    "print(df_merge_outer)"
   ]
  },
  {
   "cell_type": "code",
   "execution_count": 76,
   "id": "2239f5e2-7415-4329-a0a1-81bcf1daba49",
   "metadata": {},
   "outputs": [
    {
     "name": "stdout",
     "output_type": "stream",
     "text": [
      "       Name   Age         City    Salary      Company  Commute_Miles\n",
      "0     Alice  25.0     New York   70000.0   Alpha Corp       5.200000\n",
      "1       Bob  30.0  Los Angeles   80000.0     Beta LLC      10.500000\n",
      "2   Charlie  35.0      Chicago  120000.0    Gamma Inc       3.300000\n",
      "3     David  40.0     New York   90000.0   Alpha Corp       6.100000\n",
      "4       Eva  28.0  Los Angeles   75000.0     Beta LLC       9.400000\n",
      "5     Frank  32.0      Chicago  120000.0    Gamma Inc       4.800000\n",
      "6     Grace  29.0     New York   70000.0   Alpha Corp       5.000000\n",
      "7    Hannah  41.0  Los Angeles   80000.0     Beta LLC      11.000000\n",
      "8       Ian  35.0     New York   90000.0   Alpha Corp       6.500000\n",
      "9     Julia  30.0  Los Angeles   75000.0     Beta LLC       9.900000\n",
      "10    Kevin  27.0      Chicago  120000.0          NaN       7.215385\n",
      "11    Laura  33.0     New York   70000.0          NaN       7.215385\n",
      "12  Michael  38.0  Los Angeles   90000.0          NaN       7.215385\n",
      "13     Nina  26.0     New York   75000.0          NaN       7.215385\n",
      "14   Oliver   NaN          NaN       NaN     Delta Co       7.100000\n",
      "15   Pamela   NaN          NaN       NaN  Epsilon Ltd       8.300000\n",
      "16  Quentin   NaN          NaN       NaN   Zeta Group       6.700000\n"
     ]
    }
   ],
   "source": [
    "# Calculate the mean of the 'Commute_Miles' column (ignoring NaN values)\n",
    "mean_value = df_merge_outer['Commute_Miles'].mean()\n",
    "\n",
    "# Fill missing values (NaN) in 'Commute_Miles' with the calculated mean\n",
    "df_merge_outer['Commute_Miles'] = df_merge_outer['Commute_Miles'].fillna(mean_value)\n",
    "\n",
    "print(df_merge_outer)"
   ]
  },
  {
   "cell_type": "markdown",
   "id": "0294d00c-6c29-46c0-bd83-419a2a34849e",
   "metadata": {},
   "source": [
    "## Grouping and Aggregation"
   ]
  },
  {
   "cell_type": "code",
   "execution_count": 84,
   "id": "f0e32489-f1c6-44d9-a499-f029d4186afa",
   "metadata": {},
   "outputs": [
    {
     "name": "stdout",
     "output_type": "stream",
     "text": [
      "Shape before dropping rows with missing values: (17, 6)\n",
      "Shape after dropping rows with missing values: (10, 6)\n"
     ]
    }
   ],
   "source": [
    "# Make a copy of df_merge_outer to avoid modifying the original DataFrame\n",
    "df_merge = df_merge_outer.copy()\n",
    "\n",
    "# Drop rows with any missing values (NaN)\n",
    "df_clean = df_merge.dropna()\n",
    "\n",
    "print(\"Shape before dropping rows with missing values:\", df_merge.shape)\n",
    "print(\"Shape after dropping rows with missing values:\", df_clean.shape)"
   ]
  },
  {
   "cell_type": "code",
   "execution_count": 85,
   "id": "73ae50f6-b491-4970-83ef-61dfff8ba782",
   "metadata": {},
   "outputs": [
    {
     "name": "stdout",
     "output_type": "stream",
     "text": [
      "      Name   Age         City    Salary     Company  Commute_Miles\n",
      "0    Alice  25.0     New York   70000.0  Alpha Corp            5.2\n",
      "1      Bob  30.0  Los Angeles   80000.0    Beta LLC           10.5\n",
      "2  Charlie  35.0      Chicago  120000.0   Gamma Inc            3.3\n",
      "3    David  40.0     New York   90000.0  Alpha Corp            6.1\n",
      "4      Eva  28.0  Los Angeles   75000.0    Beta LLC            9.4\n",
      "5    Frank  32.0      Chicago  120000.0   Gamma Inc            4.8\n",
      "6    Grace  29.0     New York   70000.0  Alpha Corp            5.0\n",
      "7   Hannah  41.0  Los Angeles   80000.0    Beta LLC           11.0\n",
      "8      Ian  35.0     New York   90000.0  Alpha Corp            6.5\n",
      "9    Julia  30.0  Los Angeles   75000.0    Beta LLC            9.9\n"
     ]
    }
   ],
   "source": [
    "print(df_clean)"
   ]
  },
  {
   "cell_type": "code",
   "execution_count": 88,
   "id": "fb91f5fc-b09f-456f-a651-f586893e6df4",
   "metadata": {},
   "outputs": [
    {
     "name": "stdout",
     "output_type": "stream",
     "text": [
      "Overall average Age: 32.50\n",
      "Overall average Salary: $87,000.00\n"
     ]
    }
   ],
   "source": [
    "# Calculate the overall average Age and Salary for all employees\n",
    "average_age = df_clean['Age'].mean()\n",
    "average_salary = df_clean['Salary'].mean()\n",
    "print(f\"Overall average Age: {average_age:.2f}\")\n",
    "print(f\"Overall average Salary: ${average_salary:,.2f}\")"
   ]
  },
  {
   "cell_type": "code",
   "execution_count": 89,
   "id": "764d33cc-efe0-42ee-a17d-4f6e8796887d",
   "metadata": {},
   "outputs": [
    {
     "name": "stdout",
     "output_type": "stream",
     "text": [
      "\n",
      "Average Salary and Commute Miles by Company:\n",
      "              Salary  Commute_Miles\n",
      "Company                            \n",
      "Alpha Corp   80000.0           5.70\n",
      "Beta LLC     77500.0          10.20\n",
      "Gamma Inc   120000.0           4.05\n"
     ]
    }
   ],
   "source": [
    "# Calculate the average Salary and Commute_Miles for each Company\n",
    "company_stats = df_clean.groupby('Company')[['Salary', 'Commute_Miles']].mean()\n",
    "print(\"\\nAverage Salary and Commute Miles by Company:\")\n",
    "print(company_stats)"
   ]
  },
  {
   "cell_type": "code",
   "execution_count": null,
   "id": "8eb10331-851d-4239-b8fd-653473e1a4ab",
   "metadata": {},
   "outputs": [],
   "source": []
  }
 ],
 "metadata": {
  "kernelspec": {
   "display_name": "Python 3 (ipykernel)",
   "language": "python",
   "name": "python3"
  },
  "language_info": {
   "codemirror_mode": {
    "name": "ipython",
    "version": 3
   },
   "file_extension": ".py",
   "mimetype": "text/x-python",
   "name": "python",
   "nbconvert_exporter": "python",
   "pygments_lexer": "ipython3",
   "version": "3.12.2"
  }
 },
 "nbformat": 4,
 "nbformat_minor": 5
}
