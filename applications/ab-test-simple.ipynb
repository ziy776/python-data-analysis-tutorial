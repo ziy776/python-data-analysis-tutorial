{
 "cells": [
  {
   "cell_type": "markdown",
   "id": "ea801243-b145-46cc-8657-27db838c58a6",
   "metadata": {},
   "source": [
    "# A/B Test (Simple)"
   ]
  },
  {
   "cell_type": "markdown",
   "id": "0c14800a-93d0-4e2f-9342-0cec07c55d15",
   "metadata": {},
   "source": [
    "Scenario:\n",
    "\n",
    "An e-commerce company is testing two versions of its product page:\n",
    "\n",
    "- Version A (Control): The current design.\n",
    "- Version B (Treatment): A redesigned page with a new “Buy Now” button style and layout.\n",
    "\n",
    "The company wants to test if Version B increases the purchase conversion rate."
   ]
  },
  {
   "cell_type": "code",
   "execution_count": 1,
   "id": "26cf353f-169b-4e3c-a422-93fb3d425c5b",
   "metadata": {},
   "outputs": [],
   "source": [
    "import numpy as np\n",
    "import pandas as pd\n",
    "from scipy import stats\n",
    "import matplotlib.pyplot as plt"
   ]
  },
  {
   "cell_type": "code",
   "execution_count": 3,
   "id": "138b436e-a3ea-41e8-8337-e3ce7373bbb8",
   "metadata": {},
   "outputs": [
    {
     "data": {
      "text/html": [
       "<div>\n",
       "<style scoped>\n",
       "    .dataframe tbody tr th:only-of-type {\n",
       "        vertical-align: middle;\n",
       "    }\n",
       "\n",
       "    .dataframe tbody tr th {\n",
       "        vertical-align: top;\n",
       "    }\n",
       "\n",
       "    .dataframe thead th {\n",
       "        text-align: right;\n",
       "    }\n",
       "</style>\n",
       "<table border=\"1\" class=\"dataframe\">\n",
       "  <thead>\n",
       "    <tr style=\"text-align: right;\">\n",
       "      <th></th>\n",
       "      <th>group</th>\n",
       "      <th>converted</th>\n",
       "    </tr>\n",
       "  </thead>\n",
       "  <tbody>\n",
       "    <tr>\n",
       "      <th>0</th>\n",
       "      <td>A</td>\n",
       "      <td>0</td>\n",
       "    </tr>\n",
       "    <tr>\n",
       "      <th>1</th>\n",
       "      <td>A</td>\n",
       "      <td>1</td>\n",
       "    </tr>\n",
       "    <tr>\n",
       "      <th>2</th>\n",
       "      <td>A</td>\n",
       "      <td>0</td>\n",
       "    </tr>\n",
       "    <tr>\n",
       "      <th>3</th>\n",
       "      <td>A</td>\n",
       "      <td>0</td>\n",
       "    </tr>\n",
       "    <tr>\n",
       "      <th>4</th>\n",
       "      <td>A</td>\n",
       "      <td>0</td>\n",
       "    </tr>\n",
       "  </tbody>\n",
       "</table>\n",
       "</div>"
      ],
      "text/plain": [
       "  group  converted\n",
       "0     A          0\n",
       "1     A          1\n",
       "2     A          0\n",
       "3     A          0\n",
       "4     A          0"
      ]
     },
     "execution_count": 3,
     "metadata": {},
     "output_type": "execute_result"
    }
   ],
   "source": [
    "# --------------------------\n",
    "# Step 1: Simulate A/B test data\n",
    "# --------------------------\n",
    "np.random.seed(42)\n",
    "\n",
    "# Number of visitors\n",
    "n_A = 5000\n",
    "n_B = 5000\n",
    "\n",
    "# Simulated conversion rates (assume treatment is slightly better)\n",
    "conversion_rate_A = 0.10   # 10% conversion\n",
    "conversion_rate_B = 0.12   # 12% conversion\n",
    "\n",
    "# Simulate conversions (1 = purchase, 0 = no purchase)\n",
    "group_A = np.random.binomial(1, conversion_rate_A, n_A)\n",
    "group_B = np.random.binomial(1, conversion_rate_B, n_B)\n",
    "\n",
    "# Create DataFrame\n",
    "df = pd.DataFrame({\n",
    "    'group': ['A'] * n_A + ['B'] * n_B,\n",
    "    'converted': np.concatenate([group_A, group_B])\n",
    "})\n",
    "\n",
    "df.head()"
   ]
  },
  {
   "cell_type": "code",
   "execution_count": 4,
   "id": "1db514f7-ac65-49c2-ab54-fcf2c52f4234",
   "metadata": {},
   "outputs": [
    {
     "name": "stdout",
     "output_type": "stream",
     "text": [
      "         mean  sum  count  conversion_rate\n",
      "group                                     \n",
      "A      0.0958  479   5000             9.58\n",
      "B      0.1134  567   5000            11.34\n"
     ]
    }
   ],
   "source": [
    "# --------------------------\n",
    "# Step 2: Summary statistics\n",
    "# --------------------------\n",
    "summary = df.groupby('group')['converted'].agg(['mean', 'sum', 'count'])\n",
    "summary['conversion_rate'] = summary['mean'] * 100\n",
    "print(summary)"
   ]
  },
  {
   "cell_type": "code",
   "execution_count": 5,
   "id": "e3c0e03d-bf2e-4cc2-8c4c-5b775e17d833",
   "metadata": {},
   "outputs": [
    {
     "name": "stdout",
     "output_type": "stream",
     "text": [
      "Z-score: 2.875\n",
      "P-value: 0.0020\n"
     ]
    }
   ],
   "source": [
    "# --------------------------\n",
    "# Step 3: Hypothesis test\n",
    "# --------------------------\n",
    "# Null hypothesis: No difference in conversion rates\n",
    "# Alternative hypothesis: Version B has a higher conversion rate\n",
    "\n",
    "conversions_A = summary.loc['A', 'sum']\n",
    "conversions_B = summary.loc['B', 'sum']\n",
    "\n",
    "# Proportions\n",
    "p_A = conversions_A / n_A\n",
    "p_B = conversions_B / n_B\n",
    "\n",
    "# Pooled proportion\n",
    "p_pool = (conversions_A + conversions_B) / (n_A + n_B)\n",
    "\n",
    "# Standard error\n",
    "se = np.sqrt(p_pool * (1 - p_pool) * (1/n_A + 1/n_B))\n",
    "\n",
    "# Z-score\n",
    "z_score = (p_B - p_A) / se\n",
    "\n",
    "# One-tailed p-value\n",
    "p_value = 1 - stats.norm.cdf(z_score)\n",
    "\n",
    "print(f\"Z-score: {z_score:.3f}\")\n",
    "print(f\"P-value: {p_value:.4f}\")"
   ]
  },
  {
   "cell_type": "markdown",
   "id": "0ee17c66-d1d6-48b2-a1d6-331e1e7a805c",
   "metadata": {},
   "source": [
    "**Interpretation**\n",
    "\n",
    "- If `p_value < 0.05`, we **reject** the null hypothesis and conclude that Version B significantly improves conversion rate.\n",
    "- If `p_value >= 0.05`, there is **no statistically significant difference** between the two versions."
   ]
  },
  {
   "cell_type": "code",
   "execution_count": 6,
   "id": "18380416-4a93-4c2d-b81f-3be14bfde746",
   "metadata": {},
   "outputs": [
    {
     "data": {
      "image/png": "[encoded data removed]",
      "text/plain": [
       "<Figure size 640x480 with 1 Axes>"
      ]
     },
     "metadata": {},
     "output_type": "display_data"
    }
   ],
   "source": [
    "# --------------------------\n",
    "# Step 4: Visualization\n",
    "# --------------------------\n",
    "fig, ax = plt.subplots()\n",
    "summary['conversion_rate'].plot(kind='bar', ax=ax, color=['skyblue', 'lightgreen'])\n",
    "ax.set_ylabel(\"Conversion Rate (%)\")\n",
    "ax.set_title(\"A/B Test Conversion Rates\")\n",
    "plt.show()"
   ]
  },
  {
   "cell_type": "code",
   "execution_count": null,
   "id": "21dfd8e6-bc53-46f4-81eb-2236bd0a4a09",
   "metadata": {},
   "outputs": [],
   "source": []
  },
  {
   "cell_type": "code",
   "execution_count": null,
   "id": "fa2fa4f4-6e2e-4380-b38e-a72701a4c904",
   "metadata": {},
   "outputs": [],
   "source": []
  },
  {
   "cell_type": "code",
   "execution_count": null,
   "id": "77731549-81bb-4b32-a622-434b1490cdd4",
   "metadata": {},
   "outputs": [],
   "source": []
  }
 ],
 "metadata": {
  "kernelspec": {
   "display_name": "Python 3 (ipykernel)",
   "language": "python",
   "name": "python3"
  },
  "language_info": {
   "codemirror_mode": {
    "name": "ipython",
    "version": 3
   },
   "file_extension": ".py",
   "mimetype": "text/x-python",
   "name": "python",
   "nbconvert_exporter": "python",
   "pygments_lexer": "ipython3",
   "version": "3.12.2"
  }
 },
 "nbformat": 4,
 "nbformat_minor": 5
}
